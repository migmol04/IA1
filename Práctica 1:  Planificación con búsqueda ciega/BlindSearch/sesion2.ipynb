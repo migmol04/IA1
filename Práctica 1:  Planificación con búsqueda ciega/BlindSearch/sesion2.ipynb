{
 "cells": [
  {
   "cell_type": "markdown",
   "metadata": {},
   "source": [
    "G17: Carmen Miguel Spínola, Miguel Ángel Molina de la Rosa\n",
    "\n",
    "SESIÓN 2"
   ]
  },
  {
   "cell_type": "markdown",
   "metadata": {},
   "source": [
    "1. Implementación del problema de los relojes de arena con el objetivo de obtener algún lado de los relojes con 3 minutos:"
   ]
  },
  {
   "cell_type": "code",
   "execution_count": 1,
   "metadata": {},
   "outputs": [],
   "source": [
    "#importamos lo necesario de aima:\n",
    "\n",
    "from utils import *\n",
    "from search import *\n",
    "\n",
    "from search import Problem"
   ]
  },
  {
   "cell_type": "markdown",
   "metadata": {},
   "source": [
    "Nuestra implementación se basa en estados dados por una tupla que representa el contenido de la parte de arriba de los relojes: (x,y), x son los minutos que tenemos en la parte de arriba del reloj de 7 minutos e y representa los minutos que tenemos en la parte de arriba del reloj de 11 minutos.\n",
    "\n",
    "No necesitamos saber lo que hay en la parte de abajo de los relojes ya que puede deducirse por lo que tenemos en la de arriba, ahorrándonos así estados innecesarios."
   ]
  },
  {
   "cell_type": "code",
   "execution_count": 2,
   "metadata": {},
   "outputs": [],
   "source": [
    "class Relojes(Problem):\n",
    "    \"Problema de los relojes\"\n",
    "\n",
    "    def __init__(self):\n",
    "        self.initial = (0,0) #en el estado inicial ambas partes de arriba están vacías porque el tiempo ha corrido hacia abajo.\n",
    "\n",
    "    def actions(self,estado):\n",
    "        reloj_7=estado[0] #almacena cuantos minutos tiene en la parte de arriba el reloj de 7.\n",
    "        reloj_11=estado[1] #almacena cuantos minutos tiene en la parte de arriba el reloj de 11.\n",
    "        #lista_acciones es una lista donde guardaremos las acciones que podamos aplicar al estado en el que estamos.\n",
    "        lista_acciones=list() \n",
    "        if reloj_7 == 0 or reloj_11==0: \n",
    "            lista_acciones.append(\"girar reloj de 7\")\n",
    "        if reloj_7==0 or reloj_11 ==0 : \n",
    "            lista_acciones.append(\"girar reloj de 11\")\n",
    "        if reloj_7==0 or reloj_11==0: \n",
    "            lista_acciones.append(\"girar ambos relojes\")\n",
    "        return lista_acciones\n",
    "        # se devuelve la lista con todas las acciones aplicables.\n",
    "\n",
    "    def result(self,estado,accion):\n",
    "    # aplica una acción a un estado->postcondición\n",
    "        r7=estado[0]\n",
    "        r11=estado[1]\n",
    "        if accion==\"girar reloj de 7\":\n",
    "            return (0,0) if r11==0 else (7-r11,0) if r11<7 else (0,r11-7)\n",
    "        \n",
    "        elif accion==\"girar reloj de 11\":\n",
    "            return (0,0) if r7==0 else (0,11-r7) \n",
    "        \n",
    "        elif accion==\"girar ambos relojes\":\n",
    "            if(r7 and r11==0): return (0,4) \n",
    "\n",
    "            elif(r7==0):\n",
    "                if((11-r11)>=7): return (0,(11-r11)-7)\n",
    "                else: return (7-(11-r11),0)\n",
    "\n",
    "            elif(r11==0): return (0,11-(7-r7))\n",
    "    \n",
    "\n",
    "    def goal_test(self,estado):\n",
    "        return estado[0]==3 or estado[0]==4 or estado[1]==3 or estado[1]==8\n",
    "    #llegaremos al estado objetivo cuando en la parte de arriba del reloj de 7 haya 3 minutos o 4(en la parte de abajo tendremos los 3 minutos pedidos)\n",
    "    #con respecto al otro reloj, tendremos el objetivo cuando en la parte de de arriba hay 3 minutos o 8 (en la parte de abajo tendremos los 3 minutos)"
   ]
  },
  {
   "cell_type": "code",
   "execution_count": 3,
   "metadata": {},
   "outputs": [
    {
     "data": {
      "text/plain": [
       "(0, 0)"
      ]
     },
     "execution_count": 3,
     "metadata": {},
     "output_type": "execute_result"
    }
   ],
   "source": [
    "# Estado inicial\n",
    "r =Relojes()\n",
    "r.initial"
   ]
  },
  {
   "cell_type": "code",
   "execution_count": 4,
   "metadata": {},
   "outputs": [
    {
     "data": {
      "text/plain": [
       "['girar reloj de 7', 'girar reloj de 11', 'girar ambos relojes']"
      ]
     },
     "execution_count": 4,
     "metadata": {},
     "output_type": "execute_result"
    }
   ],
   "source": [
    "# Acciones válidas desde el estado inicial (actions comprueba las acciones para las que se cumplen las precondiciones). \n",
    "r.actions(r.initial)"
   ]
  },
  {
   "cell_type": "code",
   "execution_count": 5,
   "metadata": {},
   "outputs": [
    {
     "name": "stdout",
     "output_type": "stream",
     "text": [
      "False\n",
      "True\n"
     ]
    }
   ],
   "source": [
    "#Comprobamos si un estado dado es objetivo\n",
    "print(r.goal_test(r.initial)) \n",
    "print(r.goal_test(r.result(r.result(r.initial, \"girar ambos relojes\"),\"girar reloj de 7\")))\n"
   ]
  },
  {
   "cell_type": "markdown",
   "metadata": {},
   "source": [
    "Ahora comentaremos los resultados de los distintos algoritmos de búsqueda ciega aplicados a nuestra implementación del problema."
   ]
  },
  {
   "cell_type": "code",
   "execution_count": 6,
   "metadata": {},
   "outputs": [],
   "source": [
    "# Importamos los algoritmos de búsqueda.\n",
    "from search import *\n",
    "from search import breadth_first_tree_search, depth_first_tree_search, depth_first_graph_search, breadth_first_graph_search, uniform_cost_search, depth_limited_search"
   ]
  },
  {
   "cell_type": "code",
   "execution_count": 7,
   "metadata": {},
   "outputs": [
    {
     "name": "stdout",
     "output_type": "stream",
     "text": [
      "Búsqueda en anchura en árboles:  ['girar ambos relojes', 'girar reloj de 7']\n",
      "Búsqueda en anchura en grafos:  ['girar ambos relojes', 'girar reloj de 7']\n",
      "Tiempo de ejecución: 0.001009225845336914 segundos\n"
     ]
    }
   ],
   "source": [
    "#Comprobamos cómo se comporta la búsqueda en anchura\n",
    "import time\n",
    "\n",
    "start_time = time.time()\n",
    "print('Búsqueda en anchura en árboles: ',breadth_first_tree_search(Relojes()).solution())\n",
    "print('Búsqueda en anchura en grafos: ',breadth_first_graph_search(Relojes()).solution())\n",
    "end_time = time.time()\n",
    "\n",
    "print(f\"Tiempo de ejecución: {end_time - start_time} segundos\")"
   ]
  },
  {
   "cell_type": "code",
   "execution_count": 10,
   "metadata": {},
   "outputs": [
    {
     "name": "stdout",
     "output_type": "stream",
     "text": [
      "Búsqueda en profundidad en grafos:  ['girar ambos relojes', 'girar reloj de 7']\n",
      "Tiempo de ejecución: 0.0009968280792236328 segundos\n"
     ]
    }
   ],
   "source": [
    "#Comprobamos cómo se comporta la búsqueda en profundidad\n",
    "import time\n",
    "\n",
    "start_time = time.time()\n",
    "#print('Búsqueda en profundidad en árboles: ',depth_first_tree_search(Relojes()).solution()) #no termina\n",
    "print('Búsqueda en profundidad en grafos: ', depth_first_graph_search(Relojes()).solution()) #si termina\n",
    "end_time = time.time()\n",
    "\n",
    "print(f\"Tiempo de ejecución: {end_time - start_time} segundos\")"
   ]
  },
  {
   "cell_type": "markdown",
   "metadata": {},
   "source": [
    "2. Implementación del problema de los relojes de arena con el objetivo de obtener algún lado de los relojes con 5 minutos:"
   ]
  },
  {
   "cell_type": "markdown",
   "metadata": {},
   "source": [
    "Solo cambiará la definición del estado objetivo, donde ahora necesitamos almacenar 5 minutos en alguna de las partes de los relojes. Veremos si es posible y cómo se comportan los algoritmos de búsqueda ciega con este cambio."
   ]
  },
  {
   "cell_type": "code",
   "execution_count": 16,
   "metadata": {},
   "outputs": [],
   "source": [
    "class Relojes(Problem):\n",
    "    \"Problema de los relojes\"\n",
    "\n",
    "    def __init__(self):\n",
    "        self.initial = (0,0) #en el estado inicial ambas partes de arriba están vacías porque el tiempo ha corrido hacia abajo.\n",
    "\n",
    "    def actions(self,estado):\n",
    "        reloj_7=estado[0] #almacena cuantos minutos tiene en la parte de arriba el reloj de 7.\n",
    "        reloj_11=estado[1] #almacena cuantos minutos tiene en la parte de arriba el reloj de 11.\n",
    "        #lista_acciones es una lista donde guardaremos las acciones que podamos aplicar al estado en el que estamos.\n",
    "        lista_acciones=list() \n",
    "        if reloj_7 == 0 or reloj_11==0: \n",
    "            lista_acciones.append(\"girar reloj de 7\")\n",
    "        if reloj_7==0 or reloj_11 ==0 : \n",
    "            lista_acciones.append(\"girar reloj de 11\")\n",
    "        if reloj_7==0 or reloj_11==0: \n",
    "            lista_acciones.append(\"girar ambos relojes\")\n",
    "        return lista_acciones\n",
    "        # se devuelve la lista con todas las acciones aplicables.\n",
    "\n",
    "    def result(self,estado,accion):\n",
    "    # aplica una acción a un estado->postcondición\n",
    "        r7=estado[0]\n",
    "        r11=estado[1]\n",
    "        if accion==\"girar reloj de 7\":\n",
    "            return (0,0) if r11==0 else (7-r11,0) if r11<7 else (0,r11-7) \n",
    "        \n",
    "        elif accion==\"girar reloj de 11\":\n",
    "            return (0,0) if r7==0 else (0,11-r7) \n",
    "      \n",
    "        elif accion==\"girar ambos relojes\":\n",
    "            if(r7 and r11==0): return (0,4) \n",
    "\n",
    "            elif(r7==0):\n",
    "                if((11-r11)>=7): return (0,(11-r11)-7)\n",
    "                else: return (7-(11-r11),0)\n",
    "\n",
    "            elif(r11==0): return (0,11-(7-r7))\n",
    "    \n",
    "    def goal_test(self,estado):\n",
    "        return estado[0]==5 or estado[0]==2 or estado[1]==5 or estado[1]==6\n",
    "    #llegaremos al estado objetivo cuando en la parte de arriba del reloj de 7 haya 5 minutos o 2 (en la parte de abajo tendremos los 5 minutos pedidos)\n",
    "    #con respecto al otro reloj, tendremos el objetivo cuando en la parte de de arriba hay 5 minutos o 6 (en la parte de abajo tendremos los 5 minutos)"
   ]
  },
  {
   "cell_type": "code",
   "execution_count": 15,
   "metadata": {},
   "outputs": [
    {
     "name": "stdout",
     "output_type": "stream",
     "text": [
      "Búsqueda en anchura en árboles:  ['girar ambos relojes', 'girar reloj de 7', 'girar reloj de 11', 'girar reloj de 7', 'girar reloj de 7', 'girar reloj de 11']\n",
      "Búsqueda en anchura en grafos:  ['girar ambos relojes', 'girar reloj de 7', 'girar reloj de 11', 'girar reloj de 7', 'girar reloj de 7', 'girar reloj de 11']\n",
      "Tiempo de ejecución: 0.007000446319580078 segundos\n"
     ]
    }
   ],
   "source": [
    "#Comprobamos cómo se comporta la búsqueda en anchura\n",
    "import time\n",
    "\n",
    "start_time = time.time()\n",
    "print('Búsqueda en anchura en árboles: ',breadth_first_tree_search(Relojes()).solution())\n",
    "print('Búsqueda en anchura en grafos: ',breadth_first_graph_search(Relojes()).solution())\n",
    "end_time = time.time()\n",
    "\n",
    "print(f\"Tiempo de ejecución: {end_time - start_time} segundos\")"
   ]
  },
  {
   "cell_type": "code",
   "execution_count": 14,
   "metadata": {},
   "outputs": [
    {
     "name": "stdout",
     "output_type": "stream",
     "text": [
      "Búsqueda en profundidad en grafos:  ['girar ambos relojes', 'girar reloj de 7', 'girar reloj de 11', 'girar reloj de 7', 'girar reloj de 7', 'girar reloj de 11']\n",
      "Tiempo de ejecución: 0.0010864734649658203 segundos\n"
     ]
    }
   ],
   "source": [
    "#Comprobamos cómo se comporta la búsqueda en profundidad\n",
    "import time\n",
    "\n",
    "start_time = time.time()\n",
    "#print('Búsqueda en profundidad en árboles: ',depth_first_tree_search(Relojes()).solution()) #no termina\n",
    "print('Búsqueda en profundidad en grafos: ', depth_first_graph_search(Relojes()).solution()) #si termina\n",
    "end_time = time.time()\n",
    "\n",
    "print(f\"Tiempo de ejecución: {end_time - start_time} segundos\")"
   ]
  },
  {
   "cell_type": "markdown",
   "metadata": {},
   "source": [
    "CONCLUSIONES:\n",
    "Es posible encontrar una solución al problema con nuestra representación, tanto para obtener 3 minutos como para obtener 5.\n",
    "Las búsquedas ciegas, ya sean en profundidad o en anchura, sobre grafos o sobre árboles, se terminan rápidamente y no generan bucles infinitos, además de que dan soluciones correctas al problema."
   ]
  }
 ],
 "metadata": {
  "kernelspec": {
   "display_name": "Python 3 (ipykernel)",
   "language": "python",
   "name": "python3"
  },
  "language_info": {
   "codemirror_mode": {
    "name": "ipython",
    "version": 3
   },
   "file_extension": ".py",
   "mimetype": "text/x-python",
   "name": "python",
   "nbconvert_exporter": "python",
   "pygments_lexer": "ipython3",
   "version": "3.12.6"
  }
 },
 "nbformat": 4,
 "nbformat_minor": 4
}
